{
  "cells": [
    {
      "source": [
        "![dvd_image](dvd_image.jpg)\n",
        "\n",
        "A DVD rental company needs your help! They want to figure out how many days a customer will rent a DVD for based on some features and has approached you for help. They want you to try out some regression models which will help predict the number of days a customer will rent a DVD for. The company wants a model which yeilds a MSE of 3 or less on a test set. The model you make will help the company become more efficient inventory planning.\n",
        "\n",
        "The data they provided is in the csv file `rental_info.csv`. It has the following features:\n",
        "- `\"rental_date\"`: The date (and time) the customer rents the DVD.\n",
        "- `\"return_date\"`: The date (and time) the customer returns the DVD.\n",
        "- `\"amount\"`: The amount paid by the customer for renting the DVD.\n",
        "- `\"amount_2\"`: The square of `\"amount\"`.\n",
        "- `\"rental_rate\"`: The rate at which the DVD is rented for.\n",
        "- `\"rental_rate_2\"`: The square of `\"rental_rate\"`.\n",
        "- `\"release_year\"`: The year the movie being rented was released.\n",
        "- `\"length\"`: Lenght of the movie being rented, in minuites.\n",
        "- `\"length_2\"`: The square of `\"length\"`.\n",
        "- `\"replacement_cost\"`: The amount it will cost the company to replace the DVD.\n",
        "- `\"special_features\"`: Any special features, for example trailers/deleted scenes that the DVD also has.\n",
        "- `\"NC-17\"`, `\"PG\"`, `\"PG-13\"`, `\"R\"`: These columns are dummy variables of the rating of the movie. It takes the value 1 if the move is rated as the column name and 0 otherwise. For your convinience, the reference dummy has already been dropped."
      ],
      "metadata": {
        "id": "b4ae5707-109f-4cd6-8168-88cac0179d6b"
      },
      "id": "b4ae5707-109f-4cd6-8168-88cac0179d6b",
      "cell_type": "markdown"
    },
    {
      "source": [
        "import pandas as pd\n",
        "import numpy as np\n",
        "\n",
        "from sklearn.model_selection import train_test_split\n",
        "from sklearn.metrics import mean_squared_error\n",
        "\n",
        "# Import any additional modules and start coding below"
      ],
      "metadata": {
        "executionCancelledAt": null,
        "executionTime": 9,
        "lastExecutedAt": 1737311477462,
        "lastScheduledRunId": null,
        "lastSuccessfullyExecutedCode": "import pandas as pd\nimport numpy as np\n\nfrom sklearn.model_selection import train_test_split\nfrom sklearn.metrics import mean_squared_error\n\n# Import any additional modules and start coding below",
        "lastExecutedByKernel": "9919b8ce-2686-41b1-8aaa-131e432d4d30",
        "id": "a7ede566-910a-445c-b11a-68d192ac8506"
      },
      "id": "a7ede566-910a-445c-b11a-68d192ac8506",
      "cell_type": "code",
      "execution_count": null,
      "outputs": []
    },
    {
      "source": [
        "# Start your coding from below\n",
        "import pandas as pd\n",
        "import numpy as np\n",
        "\n",
        "from sklearn.model_selection import train_test_split\n",
        "from sklearn.metrics import mean_squared_error"
      ],
      "metadata": {
        "executionCancelledAt": null,
        "executionTime": 45,
        "lastExecutedAt": 1737311477507,
        "lastExecutedByKernel": "9919b8ce-2686-41b1-8aaa-131e432d4d30",
        "lastScheduledRunId": null,
        "lastSuccessfullyExecutedCode": "# Start your coding from below\nimport pandas as pd\nimport numpy as np\n\nfrom sklearn.model_selection import train_test_split\nfrom sklearn.metrics import mean_squared_error",
        "id": "c55113c2-00ab-4ae1-acdd-418c784c1393"
      },
      "cell_type": "code",
      "id": "c55113c2-00ab-4ae1-acdd-418c784c1393",
      "outputs": [],
      "execution_count": null
    },
    {
      "source": [
        "# For lasso\n",
        "from sklearn.linear_model import Lasso\n",
        "from sklearn.model_selection import train_test_split\n",
        "from sklearn.preprocessing import StandardScaler"
      ],
      "metadata": {
        "executionCancelledAt": null,
        "executionTime": 48,
        "lastExecutedAt": 1737311477555,
        "lastExecutedByKernel": "9919b8ce-2686-41b1-8aaa-131e432d4d30",
        "lastScheduledRunId": null,
        "lastSuccessfullyExecutedCode": "# For lasso\nfrom sklearn.linear_model import Lasso\nfrom sklearn.model_selection import train_test_split\nfrom sklearn.preprocessing import StandardScaler",
        "id": "ae8806a3-66d0-4a93-9a37-6f7cd90c6e57"
      },
      "cell_type": "code",
      "id": "ae8806a3-66d0-4a93-9a37-6f7cd90c6e57",
      "outputs": [],
      "execution_count": null
    },
    {
      "source": [
        "# Run OLS\n",
        "from sklearn.linear_model import LinearRegression\n",
        "from sklearn.metrics import mean_squared_error"
      ],
      "metadata": {
        "executionCancelledAt": null,
        "executionTime": 48,
        "lastExecutedAt": 1737311477603,
        "lastExecutedByKernel": "9919b8ce-2686-41b1-8aaa-131e432d4d30",
        "lastScheduledRunId": null,
        "lastSuccessfullyExecutedCode": "# Run OLS\nfrom sklearn.linear_model import LinearRegression\nfrom sklearn.metrics import mean_squared_error",
        "id": "69a8800e-463b-418e-a1a5-38ccf16dc119"
      },
      "cell_type": "code",
      "id": "69a8800e-463b-418e-a1a5-38ccf16dc119",
      "outputs": [],
      "execution_count": null
    },
    {
      "source": [
        "# Random forest\n",
        "from sklearn.ensemble import RandomForestRegressor\n",
        "from sklearn.model_selection import RandomizedSearchCV"
      ],
      "metadata": {
        "executionCancelledAt": null,
        "executionTime": 48,
        "lastExecutedAt": 1737311477651,
        "lastExecutedByKernel": "9919b8ce-2686-41b1-8aaa-131e432d4d30",
        "lastScheduledRunId": null,
        "lastSuccessfullyExecutedCode": "# Random forest\nfrom sklearn.ensemble import RandomForestRegressor\nfrom sklearn.model_selection import RandomizedSearchCV",
        "id": "4071c450-6acd-4a50-9042-94854eb27cc1"
      },
      "cell_type": "code",
      "id": "4071c450-6acd-4a50-9042-94854eb27cc1",
      "outputs": [],
      "execution_count": null
    },
    {
      "source": [
        "# Read in data\n",
        "df_rental = pd.read_csv(\"rental_info.csv\")\n",
        "\n",
        "# Add information on rental duration\n",
        "df_rental[\"rental_length\"] = pd.to_datetime(df_rental[\"return_date\"]) - pd.to_datetime(df_rental[\"rental_date\"])\n",
        "df_rental[\"rental_length_days\"] = df_rental[\"rental_length\"].dt.days"
      ],
      "metadata": {
        "executionCancelledAt": null,
        "executionTime": 59,
        "lastExecutedAt": 1737311477711,
        "lastExecutedByKernel": "9919b8ce-2686-41b1-8aaa-131e432d4d30",
        "lastScheduledRunId": null,
        "lastSuccessfullyExecutedCode": "# Read in data\ndf_rental = pd.read_csv(\"rental_info.csv\")\n\n# Add information on rental duration\ndf_rental[\"rental_length\"] = pd.to_datetime(df_rental[\"return_date\"]) - pd.to_datetime(df_rental[\"rental_date\"])\ndf_rental[\"rental_length_days\"] = df_rental[\"rental_length\"].dt.days",
        "id": "59455e7c-b156-4f13-93c6-f3be6ae235c3"
      },
      "cell_type": "code",
      "id": "59455e7c-b156-4f13-93c6-f3be6ae235c3",
      "outputs": [],
      "execution_count": null
    },
    {
      "source": [
        "\n",
        "\n",
        "### Add dummy variables\n",
        "# Add dummy for deleted scenes\n",
        "df_rental[\"deleted_scenes\"] =  np.where(df_rental[\"special_features\"].str.contains(\"Deleted Scenes\"), 1, 0)\n",
        "# Add dummy for behind the scenes\n",
        "df_rental[\"behind_the_scenes\"] =  np.where(df_rental[\"special_features\"].str.contains(\"Behind the Scenes\"), 1, 0)"
      ],
      "metadata": {
        "executionCancelledAt": null,
        "executionTime": 59,
        "lastExecutedAt": 1737311477771,
        "lastExecutedByKernel": "9919b8ce-2686-41b1-8aaa-131e432d4d30",
        "lastScheduledRunId": null,
        "lastSuccessfullyExecutedCode": "\n\n### Add dummy variables\n# Add dummy for deleted scenes\ndf_rental[\"deleted_scenes\"] =  np.where(df_rental[\"special_features\"].str.contains(\"Deleted Scenes\"), 1, 0)\n# Add dummy for behind the scenes\ndf_rental[\"behind_the_scenes\"] =  np.where(df_rental[\"special_features\"].str.contains(\"Behind the Scenes\"), 1, 0)",
        "id": "906a3f89-e37e-4188-9c9c-9e42eaee9fed"
      },
      "cell_type": "code",
      "id": "906a3f89-e37e-4188-9c9c-9e42eaee9fed",
      "outputs": [],
      "execution_count": null
    },
    {
      "source": [
        "# Choose columns to drop\n",
        "cols_to_drop = [\"special_features\", \"rental_length\", \"rental_length_days\", \"rental_date\", \"return_date\"]\n",
        "\n",
        "# Split into feature and target sets\n",
        "X = df_rental.drop(cols_to_drop, axis=1)\n",
        "y = df_rental[\"rental_length_days\"]\n",
        "\n",
        "# Further split into training and test data\n",
        "X_train,X_test,y_train,y_test = train_test_split(X,\n",
        "                                                 y,\n",
        "                                                 test_size=0.2,\n",
        "                                                 random_state=9)\n",
        "\n",
        "# Create the Lasso model\n",
        "lasso = Lasso(alpha=0.3, random_state=9)\n",
        "\n",
        "# Train the model and access the coefficients\n",
        "lasso.fit(X_train, y_train)\n",
        "lasso_coef = lasso.coef_"
      ],
      "metadata": {
        "executionCancelledAt": null,
        "executionTime": 58,
        "lastExecutedAt": 1737311477829,
        "lastExecutedByKernel": "9919b8ce-2686-41b1-8aaa-131e432d4d30",
        "lastScheduledRunId": null,
        "lastSuccessfullyExecutedCode": "# Choose columns to drop\ncols_to_drop = [\"special_features\", \"rental_length\", \"rental_length_days\", \"rental_date\", \"return_date\"]\n\n# Split into feature and target sets\nX = df_rental.drop(cols_to_drop, axis=1)\ny = df_rental[\"rental_length_days\"]\n\n# Further split into training and test data\nX_train,X_test,y_train,y_test = train_test_split(X, \n                                                 y, \n                                                 test_size=0.2, \n                                                 random_state=9)\n\n# Create the Lasso model\nlasso = Lasso(alpha=0.3, random_state=9) \n\n# Train the model and access the coefficients\nlasso.fit(X_train, y_train)\nlasso_coef = lasso.coef_",
        "id": "8948f81b-bc96-404d-a17d-ddf8734311db"
      },
      "cell_type": "code",
      "id": "8948f81b-bc96-404d-a17d-ddf8734311db",
      "outputs": [],
      "execution_count": null
    },
    {
      "source": [
        "# Perform feature selectino by choosing columns with positive coefficients\n",
        "X_lasso_train, X_lasso_test = X_train.iloc[:, lasso_coef > 0], X_test.iloc[:, lasso_coef > 0]\n",
        "\n",
        "# Run OLS models on lasso chosen regression\n",
        "ols = LinearRegression()\n",
        "ols = ols.fit(X_lasso_train, y_train)\n",
        "y_test_pred = ols.predict(X_lasso_test)\n",
        "mse_lin_reg_lasso = mean_squared_error(y_test, y_test_pred)\n",
        "\n",
        "# Random forest hyperparameter space\n",
        "param_dist = {'n_estimators': np.arange(1,101,1),\n",
        "          'max_depth':np.arange(1,11,1)}"
      ],
      "metadata": {
        "executionCancelledAt": null,
        "executionTime": 206,
        "lastExecutedAt": 1737311478035,
        "lastExecutedByKernel": "9919b8ce-2686-41b1-8aaa-131e432d4d30",
        "lastScheduledRunId": null,
        "lastSuccessfullyExecutedCode": "# Perform feature selectino by choosing columns with positive coefficients\nX_lasso_train, X_lasso_test = X_train.iloc[:, lasso_coef > 0], X_test.iloc[:, lasso_coef > 0]\n\n# Run OLS models on lasso chosen regression\nols = LinearRegression()\nols = ols.fit(X_lasso_train, y_train)\ny_test_pred = ols.predict(X_lasso_test)\nmse_lin_reg_lasso = mean_squared_error(y_test, y_test_pred)\n\n# Random forest hyperparameter space\nparam_dist = {'n_estimators': np.arange(1,101,1),\n          'max_depth':np.arange(1,11,1)}",
        "id": "c2e84d21-7e80-4814-a545-3580bb4f9454"
      },
      "cell_type": "code",
      "id": "c2e84d21-7e80-4814-a545-3580bb4f9454",
      "outputs": [],
      "execution_count": null
    },
    {
      "source": [
        "# Create a random forest regressor\n",
        "rf = RandomForestRegressor()\n",
        "\n",
        "# Use random search to find the best hyperparameters\n",
        "rand_search = RandomizedSearchCV(rf,\n",
        "                                 param_distributions=param_dist,\n",
        "                                 cv=5,\n",
        "                                 random_state=9)\n",
        "\n",
        "# Fit the random search object to the data\n",
        "rand_search.fit(X_train, y_train)\n",
        "\n",
        "# Create a variable for the best hyper param\n",
        "hyper_params = rand_search.best_params_\n",
        "\n",
        "# Run the random forest on the chosen hyper parameters\n",
        "rf = RandomForestRegressor(n_estimators=hyper_params[\"n_estimators\"],\n",
        "                           max_depth=hyper_params[\"max_depth\"],\n",
        "                           random_state=9)\n",
        "rf.fit(X_train,y_train)\n",
        "rf_pred = rf.predict(X_test)\n",
        "mse_random_forest= mean_squared_error(y_test, rf_pred)\n",
        "\n",
        "# Random forest gives lowest MSE so:\n",
        "best_model = rf\n",
        "best_mse = mse_random_forest"
      ],
      "metadata": {
        "executionCancelledAt": null,
        "executionTime": null,
        "lastExecutedAt": null,
        "lastExecutedByKernel": null,
        "lastScheduledRunId": null,
        "lastSuccessfullyExecutedCode": null,
        "id": "2b012f53-2a4d-4df6-9452-7b123e9138fa"
      },
      "cell_type": "code",
      "id": "2b012f53-2a4d-4df6-9452-7b123e9138fa",
      "outputs": [],
      "execution_count": null
    }
  ],
  "metadata": {
    "colab": {
      "provenance": []
    },
    "kernelspec": {
      "display_name": "Python 3 (ipykernel)",
      "language": "python",
      "name": "python3"
    },
    "language_info": {
      "codemirror_mode": {
        "name": "ipython",
        "version": 3
      },
      "file_extension": ".py",
      "mimetype": "text/x-python",
      "name": "python",
      "nbconvert_exporter": "python",
      "pygments_lexer": "ipython3",
      "version": "3.8.10"
    }
  },
  "nbformat": 4,
  "nbformat_minor": 5
}